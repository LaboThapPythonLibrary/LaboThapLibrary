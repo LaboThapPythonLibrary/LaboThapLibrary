{
 "cells": [
  {
   "cell_type": "code",
   "execution_count": 1,
   "metadata": {},
   "outputs": [
    {
     "name": "stdout",
     "output_type": "stream",
     "text": [
      "Linked Pump.m-ex to Evaporator.m-su_wf\n",
      "Linked Evaporator.m-ex_wf to Expander.m-su\n",
      "Linked Expander.m-ex to Condenser.m-su_wf\n",
      "Linked Condenser.m-ex_wf to Pump.m-su\n",
      "Residuals variables: ['Evaporator:ex_wf-h', 'Condenser:ex_wf-h']\n",
      "Iteration 0: Solving the cycle.\n",
      "Residual Evaporator:ex_wf-h: 475938.11735461047\n",
      "Residual Condenser:ex_wf-h: 226428.6061786901\n",
      "Solving Pump\n",
      "Solving Evaporator\n",
      "Solving Expander\n",
      "Solving Condenser\n",
      "Residual Evaporator:ex_wf-h: 499865.3555553735\n",
      "Residual Condenser:ex_wf-h: 248638.0487549688\n",
      "Residual Evaporator:ex_wf-h: 23927.238200763008\n",
      "Residual Condenser:ex_wf-h: 22209.4425762787\n",
      "Iteration 1: Solving the cycle.\n",
      "Residual Evaporator:ex_wf-h: 499865.3555553735\n",
      "Residual Condenser:ex_wf-h: 248638.0487549688\n",
      "Solving Pump\n",
      "Solving Evaporator\n",
      "Solving Expander\n",
      "Solving Condenser\n",
      "Residual Evaporator:ex_wf-h: 499865.3555553735\n",
      "Residual Condenser:ex_wf-h: 248638.0487549688\n",
      "Residual Evaporator:ex_wf-h: 0.0\n",
      "Residual Condenser:ex_wf-h: 0.0\n",
      "Cycle solved successfully.\n"
     ]
    }
   ],
   "source": [
    "%run machine/cycle/RC.py"
   ]
  }
 ],
 "metadata": {
  "kernelspec": {
   "display_name": "Python 3",
   "language": "python",
   "name": "python3"
  },
  "language_info": {
   "codemirror_mode": {
    "name": "ipython",
    "version": 3
   },
   "file_extension": ".py",
   "mimetype": "text/x-python",
   "name": "python",
   "nbconvert_exporter": "python",
   "pygments_lexer": "ipython3",
   "version": "3.11.9"
  }
 },
 "nbformat": 4,
 "nbformat_minor": 2
}
